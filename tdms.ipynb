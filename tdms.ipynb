{
 "cells": [
  {
   "cell_type": "code",
   "execution_count": null,
   "id": "8f6ba3e9",
   "metadata": {},
   "outputs": [],
   "source": [
    "import pandas as pd\n",
    "#import numpy as np\n",
    "from nptdms import TdmsFile\n",
    "from nptdms import tdms\n",
    "import matplotlib.pyplot as plt\n",
    "\n",
    "tdms_file = TdmsFile(r\"C:\\Users\\274882a\\Desktop\\Python_intro\\SingleImpact_StrainGaugeTest1.tdms\")"
   ]
  },
  {
   "cell_type": "code",
   "execution_count": null,
   "id": "22b39fc1",
   "metadata": {},
   "outputs": [],
   "source": [
    "#show groups\n",
    "tdms_groups = tdms_file.groups()\n",
    "print(tdms_groups)"
   ]
  },
  {
   "cell_type": "code",
   "execution_count": null,
   "id": "c50187d4",
   "metadata": {},
   "outputs": [],
   "source": [
    "#show channels channels_data = tdms_file['group name'].channels()\n",
    "channels_data = tdms_file['Single Impact'].channels()\n",
    "print(channels_data)"
   ]
  },
  {
   "cell_type": "code",
   "execution_count": null,
   "id": "b0967ba9",
   "metadata": {},
   "outputs": [],
   "source": [
    "#show data in channel\n",
    "Hydraulic_Pressure_1 = tdms_file['Single Impact'][\"Hydraulic Pressure 1 (Bar)\"]\n",
    "print(Hydraulic_Pressure_1.data)\n",
    "\n",
    "Hydraulic_Pressure_2 = tdms_file['Single Impact'][\"Hydraulic Pressure 2 (Bar)\"]\n",
    "print(Hydraulic_Pressure_1.data)\n",
    "\n",
    "Air_Pressure = tdms_file['Single Impact'][\"Air Pressure (Bar)\"]\n",
    "print(Air_Pressure.data)\n",
    "\n",
    "Proximity_Sensor_1 = tdms_file['Single Impact'][\"Proximity Sensor 1\"]\n",
    "print(Proximity_Sensor_1.data)\n",
    "\n",
    "Proximity_Sensor_2 = tdms_file['Single Impact'][\"Proximity Sensor 2\"]\n",
    "print(Proximity_Sensor_2.data)\n",
    "\n",
    "Proximity_Sensor_3 = tdms_file['Single Impact'][\"Proximity Sensor 3\"]\n",
    "print(Proximity_Sensor_3.data)\n",
    "\n",
    "Bridge_1 = tdms_file['Single Impact'][\"Bridge 1\"]\n",
    "print(Bridge_1.data)\n",
    "\n",
    "Bridge_2 = tdms_file['Single Impact'][\"Bridge 2\"]\n",
    "print(Bridge_2.data)\n",
    "\n",
    "Laser_Position = tdms_file['Single Impact'][\"Laser Position (mm)\"]\n",
    "print(Laser_Position.data)\n",
    "\n",
    "LVDT = tdms_file['Single Impact'][\"LVDT (mm)\"]\n",
    "print(LVDT.data)\n",
    "\n",
    "Load_cell = tdms_file['Single Impact'][\"Load Cell (kg)\"]\n",
    "print(Load_cell.data)"
   ]
  },
  {
   "cell_type": "code",
   "execution_count": null,
   "id": "d4cec2c3",
   "metadata": {},
   "outputs": [],
   "source": [
    "#read a tdms file\n",
    " #filenameS = \"RESULTS.tdms\"\n",
    " #tdms_file = TdmsFile(filenameS)\n",
    "#root_object = tdms_file.object()\n",
    "\n",
    " # Iterate over all items in the properties dictionary and print them\n",
    "#for name, value in root_object.properties.items():\n",
    "    #print(\"{0}: {1}\".format(name, value))"
   ]
  },
  {
   "cell_type": "code",
   "execution_count": null,
   "id": "ca02bdd4",
   "metadata": {},
   "outputs": [],
   "source": [
    "# load into df\n",
    "df = pd.DataFrame(data=Bridge_1.data)\n",
    "\n",
    "df"
   ]
  },
  {
   "cell_type": "code",
   "execution_count": null,
   "id": "ebd3e136",
   "metadata": {},
   "outputs": [],
   "source": [
    "plt.plot(LVDT,Bridge_2)\n",
    "plt.title('title name')\n",
    "plt.xlabel('LVDT')\n",
    "plt.ylabel('Bridge_2')\n",
    "plt.show()"
   ]
  },
  {
   "cell_type": "code",
   "execution_count": null,
   "id": "e8f6ab43",
   "metadata": {},
   "outputs": [],
   "source": []
  }
 ],
 "metadata": {
  "kernelspec": {
   "display_name": "Python 3 (ipykernel)",
   "language": "python",
   "name": "python3"
  },
  "language_info": {
   "codemirror_mode": {
    "name": "ipython",
    "version": 3
   },
   "file_extension": ".py",
   "mimetype": "text/x-python",
   "name": "python",
   "nbconvert_exporter": "python",
   "pygments_lexer": "ipython3",
   "version": "3.9.7"
  }
 },
 "nbformat": 4,
 "nbformat_minor": 5
}
